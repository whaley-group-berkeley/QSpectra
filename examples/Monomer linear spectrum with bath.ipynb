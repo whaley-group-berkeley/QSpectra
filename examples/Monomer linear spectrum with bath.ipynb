{
 "metadata": {
  "name": ""
 },
 "nbformat": 3,
 "nbformat_minor": 0,
 "worksheets": [
  {
   "cells": [
    {
     "cell_type": "code",
     "collapsed": false,
     "input": [
      "from qspectra import *"
     ],
     "language": "python",
     "metadata": {},
     "outputs": [],
     "prompt_number": 2
    },
    {
     "cell_type": "code",
     "collapsed": false,
     "input": [
      "monomer_hamiltonian = ElectronicHamiltonian(np.array([[12500]]), 0,\n",
      "                                            DebyeBath(CM_K * 77, 35, 106), [[1],[0],[0]])\n",
      "dyn_monomer = RedfieldModel(monomer_hamiltonian, hilbert_subspace='ge',\n",
      "                            unit_convert=CM_FS, discard_imag_corr=True, secular=False)"
     ],
     "language": "python",
     "metadata": {},
     "outputs": [],
     "prompt_number": 3
    },
    {
     "cell_type": "code",
     "collapsed": false,
     "input": [
      "t, x = linear_response(dyn_monomer, 10000)\n",
      "f, X = fourier_transform(t, x, rw_freq=dyn_monomer.rw_freq, unit_convert=CM_FS)"
     ],
     "language": "python",
     "metadata": {},
     "outputs": [],
     "prompt_number": 5
    },
    {
     "cell_type": "code",
     "collapsed": false,
     "input": [
      "plot(f, X.real)\n",
      "xlim(12000, 13000)"
     ],
     "language": "python",
     "metadata": {},
     "outputs": [
      {
       "metadata": {},
       "output_type": "pyout",
       "prompt_number": 6,
       "text": [
        "(12000, 13000)"
       ]
      },
      {
       "metadata": {},
       "output_type": "display_data",
       "png": "[encoded data removed]",
       "text": [
        "<matplotlib.figure.Figure at 0x10a8bad50>"
       ]
      }
     ],
     "prompt_number": 6
    },
    {
     "cell_type": "markdown",
     "metadata": {},
     "source": [
      "The signal field is negative, which is appropriate for absorption"
     ]
    }
   ],
   "metadata": {}
  }
 ]
}