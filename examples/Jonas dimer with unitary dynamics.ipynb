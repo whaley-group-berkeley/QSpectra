{
 "metadata": {
  "name": ""
 },
 "nbformat": 3,
 "nbformat_minor": 0,
 "worksheets": [
  {
   "cells": [
    {
     "cell_type": "code",
     "collapsed": false,
     "input": [
      "import numpy as np\n",
      "from qspectra import *"
     ],
     "language": "python",
     "metadata": {},
     "outputs": [],
     "prompt_number": 2
    },
    {
     "cell_type": "code",
     "collapsed": false,
     "input": [
      "electronic_dimer = np.array(np.mat(\"\"\"\n",
      "    11500 66;\n",
      "    66 11650\n",
      "    \"\"\"))\n",
      "n_vibrational_levels = np.array([7, 7])\n",
      "vib_energies = np.array([200, 200])\n",
      "elec_vib_couplings = np.array(np.mat(\"\"\"\n",
      "    -32 0;\n",
      "    0 -32\n",
      "    \"\"\"))"
     ],
     "language": "python",
     "metadata": {},
     "outputs": [],
     "prompt_number": 6
    },
    {
     "cell_type": "code",
     "collapsed": false,
     "input": [
      "dimer_hamiltonian = VibronicHamiltonian(\n",
      "                                    ElectronicHamiltonian(electronic_dimer),\n",
      "                                    n_vibrational_levels, vib_energies,\n",
      "                                    elec_vib_couplings)"
     ],
     "language": "python",
     "metadata": {},
     "outputs": [],
     "prompt_number": 7
    },
    {
     "cell_type": "code",
     "collapsed": false,
     "input": [
      "dynamical_model = UnitaryModel(dimer_hamiltonian, hilbert_subspace='gef',\n",
      "                               unit_convert=CM_FS)"
     ],
     "language": "python",
     "metadata": {},
     "outputs": [],
     "prompt_number": 8
    },
    {
     "cell_type": "code",
     "collapsed": false,
     "input": [
      "t, rho = simulate_dynamics(dynamical_model, unit_vec(0, 196), 1000, 'gg')"
     ],
     "language": "python",
     "metadata": {},
     "outputs": [
      {
       "ename": "IndexError",
       "evalue": "index 196 is out of bounds for axis 0 with size 196",
       "output_type": "pyerr",
       "traceback": [
        "\u001b[1;31m---------------------------------------------------------------------------\u001b[0m\n\u001b[1;31mIndexError\u001b[0m                                Traceback (most recent call last)",
        "\u001b[1;32m<ipython-input-9-2a8c013c646d>\u001b[0m in \u001b[0;36m<module>\u001b[1;34m()\u001b[0m\n\u001b[1;32m----> 1\u001b[1;33m \u001b[0mt\u001b[0m\u001b[1;33m,\u001b[0m \u001b[0mrho\u001b[0m \u001b[1;33m=\u001b[0m \u001b[0msimulate_dynamics\u001b[0m\u001b[1;33m(\u001b[0m\u001b[0mdynamical_model\u001b[0m\u001b[1;33m,\u001b[0m \u001b[0munit_vec\u001b[0m\u001b[1;33m(\u001b[0m\u001b[1;36m0\u001b[0m\u001b[1;33m,\u001b[0m \u001b[1;36m196\u001b[0m\u001b[1;33m)\u001b[0m\u001b[1;33m,\u001b[0m \u001b[1;36m1000\u001b[0m\u001b[1;33m,\u001b[0m \u001b[1;34m'gg'\u001b[0m\u001b[1;33m)\u001b[0m\u001b[1;33m\u001b[0m\u001b[0m\n\u001b[0m",
        "\u001b[1;32m/home/siva/quantum_research/dynamics_and_spectra_code/qspectra/simulate.pyc\u001b[0m in \u001b[0;36msimulate_dynamics\u001b[1;34m(dynamical_model, initial_state, duration, liouville_subspace, **integrate_kwargs)\u001b[0m\n\u001b[0;32m    163\u001b[0m         \u001b[0mTwo\u001b[0m\u001b[1;33m-\u001b[0m\u001b[0mdimensional\u001b[0m \u001b[0marray\u001b[0m \u001b[0mof\u001b[0m \u001b[0msimulated\u001b[0m \u001b[0mstate\u001b[0m \u001b[0mvectors\u001b[0m \u001b[0mat\u001b[0m \u001b[0mall\u001b[0m \u001b[0mtimes\u001b[0m \u001b[0mt\u001b[0m\u001b[1;33m.\u001b[0m\u001b[1;33m\u001b[0m\u001b[0m\n\u001b[0;32m    164\u001b[0m     \"\"\"\n\u001b[1;32m--> 165\u001b[1;33m     \u001b[0meom\u001b[0m \u001b[1;33m=\u001b[0m \u001b[0mdynamical_model\u001b[0m\u001b[1;33m.\u001b[0m\u001b[0mequation_of_motion\u001b[0m\u001b[1;33m(\u001b[0m\u001b[0mliouville_subspace\u001b[0m\u001b[1;33m)\u001b[0m\u001b[1;33m\u001b[0m\u001b[0m\n\u001b[0m\u001b[0;32m    166\u001b[0m     \u001b[0mt\u001b[0m \u001b[1;33m=\u001b[0m \u001b[0mnp\u001b[0m\u001b[1;33m.\u001b[0m\u001b[0marange\u001b[0m\u001b[1;33m(\u001b[0m\u001b[1;36m0\u001b[0m\u001b[1;33m,\u001b[0m \u001b[0mduration\u001b[0m\u001b[1;33m,\u001b[0m \u001b[0mdynamical_model\u001b[0m\u001b[1;33m.\u001b[0m\u001b[0mtime_step\u001b[0m\u001b[1;33m)\u001b[0m\u001b[1;33m\u001b[0m\u001b[0m\n\u001b[0;32m    167\u001b[0m     \u001b[0mstates\u001b[0m \u001b[1;33m=\u001b[0m \u001b[0mintegrate\u001b[0m\u001b[1;33m(\u001b[0m\u001b[0meom\u001b[0m\u001b[1;33m,\u001b[0m \u001b[0minitial_state\u001b[0m\u001b[1;33m,\u001b[0m \u001b[0mt\u001b[0m\u001b[1;33m,\u001b[0m \u001b[1;33m**\u001b[0m\u001b[0mintegrate_kwargs\u001b[0m\u001b[1;33m)\u001b[0m\u001b[1;33m\u001b[0m\u001b[0m\n",
        "\u001b[1;32m/home/siva/quantum_research/dynamics_and_spectra_code/qspectra/dynamical_models/unitary.pyc\u001b[0m in \u001b[0;36mequation_of_motion\u001b[1;34m(self, liouville_subspace)\u001b[0m\n\u001b[0;32m     49\u001b[0m                                         self.hamiltonian.n_vibrational_states)\n\u001b[0;32m     50\u001b[0m         \u001b[0mmesh\u001b[0m \u001b[1;33m=\u001b[0m \u001b[0mnp\u001b[0m\u001b[1;33m.\u001b[0m\u001b[0mix_\u001b[0m\u001b[1;33m(\u001b[0m\u001b[0mindex\u001b[0m\u001b[1;33m,\u001b[0m \u001b[0mindex\u001b[0m\u001b[1;33m)\u001b[0m\u001b[1;33m\u001b[0m\u001b[0m\n\u001b[1;32m---> 51\u001b[1;33m         \u001b[0mevolve_matrix\u001b[0m \u001b[1;33m=\u001b[0m \u001b[0mself\u001b[0m\u001b[1;33m.\u001b[0m\u001b[0munitary_super_operator\u001b[0m\u001b[1;33m[\u001b[0m\u001b[0mmesh\u001b[0m\u001b[1;33m]\u001b[0m\u001b[1;33m\u001b[0m\u001b[0m\n\u001b[0m\u001b[0;32m     52\u001b[0m         \u001b[1;32mdef\u001b[0m \u001b[0meom\u001b[0m\u001b[1;33m(\u001b[0m\u001b[0mt\u001b[0m\u001b[1;33m,\u001b[0m \u001b[0mrho\u001b[0m\u001b[1;33m)\u001b[0m\u001b[1;33m:\u001b[0m\u001b[1;33m\u001b[0m\u001b[0m\n\u001b[0;32m     53\u001b[0m             \u001b[1;32mreturn\u001b[0m \u001b[0mevolve_matrix\u001b[0m\u001b[1;33m.\u001b[0m\u001b[0mdot\u001b[0m\u001b[1;33m(\u001b[0m\u001b[0mrho\u001b[0m\u001b[1;33m)\u001b[0m\u001b[1;33m\u001b[0m\u001b[0m\n",
        "\u001b[1;31mIndexError\u001b[0m: index 196 is out of bounds for axis 0 with size 196"
       ]
      },
      {
       "output_type": "stream",
       "stream": "stderr",
       "text": [
        "qspectra/hamiltonian.py:308: ComplexWarning: Casting complex values to real discards the imaginary part\n",
        "  m, vib_operator)))\n"
       ]
      }
     ],
     "prompt_number": 9
    },
    {
     "cell_type": "code",
     "collapsed": false,
     "input": [],
     "language": "python",
     "metadata": {},
     "outputs": []
    }
   ],
   "metadata": {}
  }
 ]
}